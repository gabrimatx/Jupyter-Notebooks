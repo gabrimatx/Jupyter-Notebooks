{
  "nbformat": 4,
  "nbformat_minor": 0,
  "metadata": {
    "colab": {
      "provenance": [],
      "gpuType": "T4",
      "include_colab_link": true
    },
    "kernelspec": {
      "name": "python3",
      "display_name": "Python 3"
    },
    "language_info": {
      "name": "python"
    },
    "accelerator": "GPU"
  },
  "cells": [
    {
      "cell_type": "markdown",
      "metadata": {
        "id": "view-in-github",
        "colab_type": "text"
      },
      "source": [
        "<a href=\"https://colab.research.google.com/github/gabrimatx/Jupyter-Notebooks/blob/main/CUDA_notebook.ipynb\" target=\"_parent\"><img src=\"https://colab.research.google.com/assets/colab-badge.svg\" alt=\"Open In Colab\"/></a>"
      ]
    },
    {
      "cell_type": "markdown",
      "source": [
        "# CUDA Notebook"
      ],
      "metadata": {
        "id": "QPxrrIpkRX7o"
      }
    },
    {
      "cell_type": "code",
      "execution_count": 1,
      "metadata": {
        "colab": {
          "base_uri": "https://localhost:8080/"
        },
        "id": "jNTQtPKYrlLS",
        "outputId": "63c19b56-5485-464b-e049-1ad0fa8d4892"
      },
      "outputs": [
        {
          "output_type": "stream",
          "name": "stdout",
          "text": [
            "nvcc: NVIDIA (R) Cuda compiler driver\n",
            "Copyright (c) 2005-2023 NVIDIA Corporation\n",
            "Built on Tue_Aug_15_22:02:13_PDT_2023\n",
            "Cuda compilation tools, release 12.2, V12.2.140\n",
            "Build cuda_12.2.r12.2/compiler.33191640_0\n",
            "Tue Jan 30 23:00:35 2024       \n",
            "+---------------------------------------------------------------------------------------+\n",
            "| NVIDIA-SMI 535.104.05             Driver Version: 535.104.05   CUDA Version: 12.2     |\n",
            "|-----------------------------------------+----------------------+----------------------+\n",
            "| GPU  Name                 Persistence-M | Bus-Id        Disp.A | Volatile Uncorr. ECC |\n",
            "| Fan  Temp   Perf          Pwr:Usage/Cap |         Memory-Usage | GPU-Util  Compute M. |\n",
            "|                                         |                      |               MIG M. |\n",
            "|=========================================+======================+======================|\n",
            "|   0  Tesla T4                       Off | 00000000:00:04.0 Off |                    0 |\n",
            "| N/A   45C    P8              10W /  70W |      0MiB / 15360MiB |      0%      Default |\n",
            "|                                         |                      |                  N/A |\n",
            "+-----------------------------------------+----------------------+----------------------+\n",
            "                                                                                         \n",
            "+---------------------------------------------------------------------------------------+\n",
            "| Processes:                                                                            |\n",
            "|  GPU   GI   CI        PID   Type   Process name                            GPU Memory |\n",
            "|        ID   ID                                                             Usage      |\n",
            "|=======================================================================================|\n",
            "|  No running processes found                                                           |\n",
            "+---------------------------------------------------------------------------------------+\n",
            "compute_cap\n",
            "7.5\n",
            "Collecting git+https://github.com/andreinechaev/nvcc4jupyter.git\n",
            "  Cloning https://github.com/andreinechaev/nvcc4jupyter.git to /tmp/pip-req-build-cchak65q\n",
            "  Running command git clone --filter=blob:none --quiet https://github.com/andreinechaev/nvcc4jupyter.git /tmp/pip-req-build-cchak65q\n",
            "  Resolved https://github.com/andreinechaev/nvcc4jupyter.git to commit 5cd225851b7638f3f6d55a19328295f16c014079\n",
            "  Installing build dependencies ... \u001b[?25l\u001b[?25hdone\n",
            "  Getting requirements to build wheel ... \u001b[?25l\u001b[?25hdone\n",
            "  Preparing metadata (pyproject.toml) ... \u001b[?25l\u001b[?25hdone\n",
            "Building wheels for collected packages: nvcc4jupyter\n",
            "  Building wheel for nvcc4jupyter (pyproject.toml) ... \u001b[?25l\u001b[?25hdone\n",
            "  Created wheel for nvcc4jupyter: filename=nvcc4jupyter-1.0.3-py3-none-any.whl size=7432 sha256=ad99cf1e6175f37f13398802e9e82d42885745e385f9d1c2ce678f3d359f3a95\n",
            "  Stored in directory: /tmp/pip-ephem-wheel-cache-f51c81h7/wheels/a8/b9/18/23f8ef71ceb0f63297dd1903aedd067e6243a68ea756d6feea\n",
            "Successfully built nvcc4jupyter\n",
            "Installing collected packages: nvcc4jupyter\n",
            "Successfully installed nvcc4jupyter-1.0.3\n",
            "Source files will be saved in \"/tmp/tmp_x_eai4j\".\n"
          ]
        }
      ],
      "source": [
        "!nvcc --version\n",
        "!nvidia-smi\n",
        "!nvidia-smi --query-gpu=compute_cap --format=csv\n",
        "!pip install git+https://github.com/andreinechaev/nvcc4jupyter.git\n",
        "%load_ext nvcc4jupyter"
      ]
    },
    {
      "cell_type": "markdown",
      "source": [
        "## CUDA: Compute Unified Device Architecture\n",
        "- Enables explicit GPU memory management.\n",
        "- GPU is viewed as *compute device* and is a co-processor to the CPU, has its own **DRAM** and runs many threads in parallel.\n",
        "---\n",
        "- The GPU architecture is built around a scalable array of streaming multiprocessors (SM).\n",
        "- Every SM in a GPU support the concurrent execution of hundreds of threads.\n",
        "- Every SM executes thread in groups of 32 called **warps**. All threads in a warp execute the same instruction at the same time."
      ],
      "metadata": {
        "id": "m_qQAJJ2SHsK"
      }
    },
    {
      "cell_type": "markdown",
      "source": [
        "# Typical structure of a CUDA program\n",
        "- GPU memory allocation.\n",
        "- Transfer data to CPU.\n",
        "- Execute CUDA kernel.\n",
        "- Copy results from GPU's memory.\n",
        "- Reinitialize device."
      ],
      "metadata": {
        "id": "obVfBdtTWPuh"
      }
    },
    {
      "cell_type": "markdown",
      "source": [
        "# Hello world"
      ],
      "metadata": {
        "id": "E5aNJQTlSCFQ"
      }
    },
    {
      "cell_type": "code",
      "source": [
        "%%cuda\n",
        "#include <stdio.h>\n",
        "\n",
        "__global__ void hello(){\n",
        "    printf(\"Hello from block: %u, thread: %u\\n\", blockIdx.x, threadIdx.x);\n",
        "}\n",
        "\n",
        "int main(){\n",
        "    hello<<<2, 2>>>();\n",
        "    cudaDeviceSynchronize();\n",
        "}"
      ],
      "metadata": {
        "colab": {
          "base_uri": "https://localhost:8080/"
        },
        "id": "rcXVDjEFsEjw",
        "outputId": "a829c6c6-137b-4e19-b803-a3e35cee0b8a"
      },
      "execution_count": 2,
      "outputs": [
        {
          "output_type": "stream",
          "name": "stdout",
          "text": [
            "Hello from block: 0, thread: 0\n",
            "Hello from block: 0, thread: 1\n",
            "Hello from block: 1, thread: 0\n",
            "Hello from block: 1, thread: 1\n",
            "\n"
          ]
        }
      ]
    },
    {
      "cell_type": "markdown",
      "source": [
        "# Function decorations\n",
        "`__device__` : a function that can only be called from within a kernel, i.e. not from the host.  \n",
        "\n",
        "`__host__` : a function that can only run on the host. The __host__ qualifier is typically omitted, unless used in combination with __device__ to indicate that the function can run on both the host and the device. Such a scenario implies the generation of two compiled codes for the function.\n",
        "\n",
        "`__global__` : a function that can be called from the host and executed on the device. In CC 3.5 and above, the device can also call __global__ functions, using a feature called dynamic parallelism.\n",
        "\n",
        "# CUDA Memory Management Functions\n",
        "\n",
        "- `cudaMalloc(address, size)`: allocates object in device global memory.\n",
        "- `cudaFree(address)`: frees object from device global memory.\n",
        "- `cudaMemcpy(destination, source, bytes_copied, direction_of_transfer)`: memory data transfer, synchronous."
      ],
      "metadata": {
        "id": "Ttkf8Q_DXEfL"
      }
    },
    {
      "cell_type": "markdown",
      "source": [
        "# Vector addition"
      ],
      "metadata": {
        "id": "jgk0US9VXtwO"
      }
    },
    {
      "cell_type": "code",
      "source": [
        "%%cuda\n",
        "#include <stdio.h>\n",
        "#include <cuda.h>\n",
        "__global__ void vecAddKernel(float *A_d, float *B_d, float *C_d, int n){\n",
        "    int i = threadIdx.x + blockDim.x * blockIdx.x;\n",
        "    if (i < n) C_d[i] = A_d[i] + B_d[i];\n",
        "}\n",
        "\n",
        "void vecAdd(float *A_h, float *B_h, float *C_h, int n){\n",
        "    int size  = n * sizeof(float);\n",
        "    float *A_d, *B_d, *C_d;\n",
        "\n",
        "\n",
        "\n",
        "\n",
        "    // Transfer A and B to device memory\n",
        "    cudaMalloc(&A_d, size);\n",
        "    cudaMemcpy(A_d, A_h, size, cudaMemcpyHostToDevice);\n",
        "    cudaMalloc(&B_d, size);\n",
        "    cudaMemcpy(B_d, B_h, size, cudaMemcpyHostToDevice);\n",
        "\n",
        "    // Allocate device memory for result\n",
        "    cudaMalloc(&C_d, size);\n",
        "\n",
        "    // Kernel invocation\n",
        "    vecAddKernel<<<ceil(n/256.0),256>>>(A_d, B_d, C_d, n);\n",
        "    cudaDeviceSynchronize();\n",
        "\n",
        "\n",
        "\n",
        "    // Transfer C to host\n",
        "    cudaMemcpy(C_h, C_d, size, cudaMemcpyDeviceToHost);\n",
        "    printf(\"C = [%f %f %f]\", C_h[0], C_h[1], C_h[2]);\n",
        "\n",
        "    // Free device memory\n",
        "    cudaFree(A_d); cudaFree(B_d); cudaFree(C_d);\n",
        "\n",
        "}\n",
        "\n",
        "int main(){\n",
        "    float A[] = {1,2,3}, B[] = {1,2,3}, C[3];\n",
        "    vecAdd(A, B, C, 3);\n",
        "    return 0;\n",
        "}"
      ],
      "metadata": {
        "colab": {
          "base_uri": "https://localhost:8080/"
        },
        "id": "573BkYCfXotN",
        "outputId": "58c8157e-4b09-49cb-cdc3-98b47eeed21d"
      },
      "execution_count": 3,
      "outputs": [
        {
          "output_type": "stream",
          "name": "stdout",
          "text": [
            "C = [2.000000 4.000000 6.000000]\n"
          ]
        }
      ]
    },
    {
      "cell_type": "markdown",
      "source": [
        "# Kernel restrictions\n",
        "- Can only access device memory.\n",
        "- Must be of void type.\n",
        "- Does not support a variable number of arguments.\n",
        "- Does not support static variables.\n",
        "- Does not support pointers to functions.\n",
        "- Is async w.r.t. the host."
      ],
      "metadata": {
        "id": "jygJcXDUiB7W"
      }
    },
    {
      "cell_type": "markdown",
      "source": [
        "# Intrinsic variables\n",
        "- `blockDim`: Contains the size of each block e.g. $(B_x, B_y, B_z)$.\n",
        "- `gridDim`: Contains the size of the grid in blocks e.g. $(G_x, G_y, G_z)$.\n",
        "- `threadIdx`: The $(x,y,z)$ position of the thread within a block, with $x\\in [0, B_x-1],y\\in [0,B_y - 1], z\\in [0, B_z-1]$.\n",
        "- `blockIdx`: The $(b_x,b_y,b_z)$ position of thread's block within the grid, with $b_x\\in [0, G_x-1],b_y\\in [0,G_y - 1], b_z\\in [0, G_z-1]$.\n",
        "\n",
        "`blockDim` and `gridDim` are of type `dim3` a type of integer vectors based on `uint3`. When a variable of type `dim3` is initialized, non defined components are set to 1. Components in a `dim3` variable are accessible with `x,y,z`.\n",
        "\n",
        "To compute the unique Id of a thread, that can be considered an element of a 6-D array\n",
        "`Thread t[gridDim.z][gridDim.y][gridDim.x][blockDim.z][blockDim.y][blockDim.x];`\n",
        "we can use the formula:\n",
        "\n",
        "\n",
        "```\n",
        "int myID = (blockIdx.z * gridDim.x * gridDim.y + blockIdx.y * gridDim.x + blockIdx.x) * blockDim.x * blockDim.y * blockDim.z + threadIdx.z * blockDim.x * blockDim.y + threadIdx.y * blockDim.x + threadIdx.x;\n",
        "```\n",
        "\n",
        "\n"
      ],
      "metadata": {
        "id": "W3eWPszvizii"
      }
    },
    {
      "cell_type": "markdown",
      "source": [
        "# Hello word #2"
      ],
      "metadata": {
        "id": "teb54NGjyYwl"
      }
    },
    {
      "cell_type": "code",
      "source": [
        "%%cuda\n",
        "#include <stdio.h>\n",
        "__global__ void hello(){\n",
        "    int myID = (blockIdx.z * gridDim.x * gridDim.y + blockIdx.y * gridDim.x + blockIdx.x) * blockDim.x * blockDim.y * blockDim.z + threadIdx.z * blockDim.x * blockDim.y + threadIdx.y * blockDim.x + threadIdx.x;\n",
        "    printf(\"hello from %d\\n\", myID);\n",
        "}\n",
        "\n",
        "int main(){\n",
        "        hello<<<2, 4>>>();\n",
        "        cudaDeviceSynchronize();\n",
        "}"
      ],
      "metadata": {
        "colab": {
          "base_uri": "https://localhost:8080/"
        },
        "id": "CB7OtXLUyb7J",
        "outputId": "e1d203a9-75e9-4673-f8d9-738a8811edea"
      },
      "execution_count": 4,
      "outputs": [
        {
          "output_type": "stream",
          "name": "stdout",
          "text": [
            "hello from 0\n",
            "hello from 1\n",
            "hello from 2\n",
            "hello from 3\n",
            "hello from 4\n",
            "hello from 5\n",
            "hello from 6\n",
            "hello from 7\n",
            "\n"
          ]
        }
      ]
    },
    {
      "cell_type": "markdown",
      "source": [
        "# Cooperation withing same block\n",
        "The programmer can partition the problem into coarse sub-problems that can be solved independently in parallel by blocks of threads, and each sub-problem into finer pieces that can be solved cooperatively in parallel by all threads within the block.\n",
        "\n",
        "- For all purposes, we can only assume that a thread terminates when the block it belongs to terminates.\n",
        "- When an SM completes a block, it switches to another one.\n",
        "- A switch is also possible if the threads of a block stall while waiting. Having other resident blocks depends on resource availability (e.g. shared memory, registers).\n",
        "- **Important**: The existence of multiple warp schedulers in SMs means that at any point in time multiple warps from the same block may be executing."
      ],
      "metadata": {
        "id": "Ylcd1jxnzaop"
      }
    },
    {
      "cell_type": "markdown",
      "source": [
        "# Device properties\n",
        "`maxThreadsPerBlock`: the maximal number of threads allowed in a block. Some devices allow up to 1024 threads in each block and other devices allow fewer.\n",
        "\n",
        "`maxThreadsPerMultiProcessor`: the maximum resident threads per multiprocessor. This can limit the numbers of concurrent blocks.\n",
        "\n",
        "`maxBlocksPerMultiProcessor`: maximum number of resident blocks per multiprocessor.\n",
        "\n",
        "`multiProcessorCount`: the number of SM.\n"
      ],
      "metadata": {
        "id": "FJXmTV0I0w9X"
      }
    },
    {
      "cell_type": "markdown",
      "source": [
        "# Matrix multiplication"
      ],
      "metadata": {
        "id": "Wc6fYhR24bPQ"
      }
    },
    {
      "cell_type": "code",
      "source": [
        "%%cuda\n",
        "#include <stdio.h>\n",
        "#include <stdlib.h>\n",
        "#include <cuda.h>\n",
        "\n",
        "#define M 8\n",
        "#define P 4\n",
        "#define N 2\n",
        "#define BLOCK_SIZE 16\n",
        "\n",
        "\n",
        "__global__ void mat_mult_kernel(double* A_d, double* B_d, double* C_d, int m, int p, int n) {\n",
        "    int i = blockDim.y * blockIdx.y + threadIdx.y;\n",
        "    int j = blockDim.x * blockIdx.x + threadIdx.x;\n",
        "\n",
        "    double sum = 0.0;\n",
        "    if (i < m && j < n) {\n",
        "      for (int k = 0; k < p; k++) {\n",
        "          sum += A_d[i * p + k] * B_d[k * n + j];\n",
        "      }\n",
        "      C_d[i * n + j] = sum;\n",
        "    }\n",
        "}\n",
        "\n",
        "void print_matrix(char *name, int rows, int cols, double *A)\n",
        "{\n",
        "    printf(\"%s:\\n\", name);\n",
        "    for (int i = 0; i < rows; i++)\n",
        "    {\n",
        "        for (int j = 0; j < cols; j++)\n",
        "        {\n",
        "            printf(\"%.2f\\t\", A[i * cols + j]);\n",
        "        }\n",
        "        printf(\"\\n\");\n",
        "    }\n",
        "    printf(\"\\n\");\n",
        "}\n",
        "\n",
        "\n",
        "int main() {\n",
        "    double A_h[M * P];\n",
        "    double B_h[P * N];\n",
        "    double C_h[M * N];\n",
        "    for (int i = 0; i < M; i++) {\n",
        "        for (int j = 0; j < P; j++) {\n",
        "            A_h[i * P + j] = i;\n",
        "        }\n",
        "    }\n",
        "\n",
        "    for (int i = 0; i < P; i++) {\n",
        "        for (int j = 0; j < N; j++) {\n",
        "            B_h[i * N + j] = i;\n",
        "        }\n",
        "    }\n",
        "\n",
        "    double *A_d, *B_d, *C_d;\n",
        "    cudaMalloc(&A_d, M * P * sizeof(double));\n",
        "    cudaMalloc(&B_d, P * N * sizeof(double));\n",
        "    cudaMalloc(&C_d, M * N * sizeof(double));\n",
        "    cudaMemcpy(A_d, A_h, M * P * sizeof(double), cudaMemcpyHostToDevice);\n",
        "    cudaMemcpy(B_d, B_h, P * N * sizeof(double), cudaMemcpyHostToDevice);\n",
        "    dim3 b(BLOCK_SIZE, BLOCK_SIZE);\n",
        "    dim3 g(ceil(N/(double) b.x), ceil(M/(double) b.y));\n",
        "    mat_mult_kernel<<<g, b>>>(A_d, B_d, C_d, M, P, N);\n",
        "    cudaMemcpy(C_h, C_d, M * N * sizeof(double), cudaMemcpyDeviceToHost);\n",
        "    cudaDeviceSynchronize();\n",
        "\n",
        "    cudaFree(A_d); cudaFree(B_d); cudaFree(C_d);\n",
        "\n",
        "    print_matrix(\"A\", M, P, A_h);\n",
        "    print_matrix(\"B\", P, N, B_h);\n",
        "    print_matrix(\"C\", M, N, C_h);\n",
        "}\n"
      ],
      "metadata": {
        "id": "rmM2VNHV4a98",
        "outputId": "47a9fcd8-fd98-48eb-cce6-5ae2fcd72e6e",
        "colab": {
          "base_uri": "https://localhost:8080/"
        }
      },
      "execution_count": 6,
      "outputs": [
        {
          "output_type": "stream",
          "name": "stdout",
          "text": [
            "A:\n",
            "0.00\t0.00\t0.00\t0.00\t\n",
            "1.00\t1.00\t1.00\t1.00\t\n",
            "2.00\t2.00\t2.00\t2.00\t\n",
            "3.00\t3.00\t3.00\t3.00\t\n",
            "4.00\t4.00\t4.00\t4.00\t\n",
            "5.00\t5.00\t5.00\t5.00\t\n",
            "6.00\t6.00\t6.00\t6.00\t\n",
            "7.00\t7.00\t7.00\t7.00\t\n",
            "\n",
            "B:\n",
            "0.00\t0.00\t\n",
            "1.00\t1.00\t\n",
            "2.00\t2.00\t\n",
            "3.00\t3.00\t\n",
            "\n",
            "C:\n",
            "0.00\t0.00\t\n",
            "6.00\t6.00\t\n",
            "12.00\t12.00\t\n",
            "18.00\t18.00\t\n",
            "24.00\t24.00\t\n",
            "30.00\t30.00\t\n",
            "36.00\t36.00\t\n",
            "42.00\t42.00\t\n",
            "\n",
            "\n"
          ]
        }
      ]
    },
    {
      "cell_type": "markdown",
      "source": [
        "# Matrix multiplication with shared memory"
      ],
      "metadata": {
        "id": "QdpY3G5MCoDu"
      }
    },
    {
      "cell_type": "code",
      "source": [
        "%%cuda\n",
        "\n",
        "#include <stdio.h>\n",
        "#include <stdlib.h>\n",
        "#include <cuda.h>\n",
        "\n",
        "#define M 8\n",
        "#define P 4\n",
        "#define N 2\n",
        "#define BLOCK_SIZE 2\n",
        "\n",
        "void print_matrix(char *name, int rows, int cols, double *A)\n",
        "{\n",
        "    printf(\"%s:\\n\", name);\n",
        "    for (int i = 0; i < rows; i++)\n",
        "    {\n",
        "        for (int j = 0; j < cols; j++)\n",
        "        {\n",
        "            printf(\"%.2f\\t\", A[i * cols + j]);\n",
        "        }\n",
        "        printf(\"\\n\");\n",
        "    }\n",
        "    printf(\"\\n\");\n",
        "}\n",
        "\n",
        "__global__ void mat_mult_kernel(double* A_d, double* B_d, double* C_d, int m, int p, int n) {\n",
        "    int tx = threadIdx.x; int ty = threadIdx.y;\n",
        "    int i = blockDim.y * blockIdx.y + ty;\n",
        "    int j = blockDim.x * blockIdx.x + tx;\n",
        "\n",
        "    __shared__ double A_ds[BLOCK_SIZE][BLOCK_SIZE];\n",
        "    __shared__ double B_ds[BLOCK_SIZE][BLOCK_SIZE];\n",
        "\n",
        "    double sum = 0.0;\n",
        "    for (int t = 0; t < ceil(p / (double) BLOCK_SIZE); t++) {\n",
        "        if (i < m && (t * BLOCK_SIZE + tx) < p) A_ds[ty][tx] = A_d[i * p + t * BLOCK_SIZE + tx]; // Go to the line, go to the tile, go to the thread\n",
        "        if ((t * BLOCK_SIZE + ty) < p && j < n) B_ds[ty][tx] = B_d[(t * BLOCK_SIZE + ty) * n + j]; // Select tile, select thread, go to column\n",
        "        __syncthreads();\n",
        "\n",
        "        for (int k = 0; k < BLOCK_SIZE; k++) sum += A_ds[ty][k] * B_ds[k][tx]; // Each thread performs row column mult of shared memories\n",
        "        __syncthreads();\n",
        "    }\n",
        "    if (i < m && j < n) C_d[i * n + j] = sum; // Put sum into output matrices\n",
        "}\n",
        "\n",
        "int main() {\n",
        "    double A_h[M * P];\n",
        "    double B_h[P * N];\n",
        "    double C_h[M * N];\n",
        "    for (int i = 0; i < M; i++) {\n",
        "        for (int j = 0; j < P; j++) {\n",
        "            A_h[i * P + j] = i;\n",
        "        }\n",
        "    }\n",
        "\n",
        "    for (int i = 0; i < P; i++) {\n",
        "        for (int j = 0; j < N; j++) {\n",
        "            B_h[i * N + j] = i;\n",
        "        }\n",
        "    }\n",
        "\n",
        "    double *A_d, *B_d, *C_d;\n",
        "    cudaMalloc(&A_d, M * P * sizeof(double));\n",
        "    cudaMalloc(&B_d, P * N * sizeof(double));\n",
        "    cudaMalloc(&C_d, M * N * sizeof(double));\n",
        "    cudaMemcpy(A_d, A_h, M * P * sizeof(double), cudaMemcpyHostToDevice);\n",
        "    cudaMemcpy(B_d, B_h, P * N * sizeof(double), cudaMemcpyHostToDevice);\n",
        "    dim3 b(BLOCK_SIZE, BLOCK_SIZE);\n",
        "    dim3 g(ceil(N/(double) b.x), ceil(M/(double) b.y));\n",
        "    mat_mult_kernel<<<g, b>>>(A_d, B_d, C_d, M, P, N);\n",
        "    cudaMemcpy(C_h, C_d, M * N * sizeof(double), cudaMemcpyDeviceToHost);\n",
        "    cudaDeviceSynchronize();\n",
        "\n",
        "    cudaFree(A_d); cudaFree(B_d); cudaFree(C_d);\n",
        "\n",
        "    print_matrix(\"A\", M, P, A_h);\n",
        "    print_matrix(\"B\", P, N, B_h);\n",
        "    print_matrix(\"C\", M, N, C_h);\n",
        "}\n"
      ],
      "metadata": {
        "id": "J2dJ3cokCnxp",
        "outputId": "9924f8e7-6824-452c-b06e-87e63d2d460f",
        "colab": {
          "base_uri": "https://localhost:8080/"
        }
      },
      "execution_count": 7,
      "outputs": [
        {
          "output_type": "stream",
          "name": "stdout",
          "text": [
            "A:\n",
            "0.00\t0.00\t0.00\t0.00\t\n",
            "1.00\t1.00\t1.00\t1.00\t\n",
            "2.00\t2.00\t2.00\t2.00\t\n",
            "3.00\t3.00\t3.00\t3.00\t\n",
            "4.00\t4.00\t4.00\t4.00\t\n",
            "5.00\t5.00\t5.00\t5.00\t\n",
            "6.00\t6.00\t6.00\t6.00\t\n",
            "7.00\t7.00\t7.00\t7.00\t\n",
            "\n",
            "B:\n",
            "0.00\t0.00\t\n",
            "1.00\t1.00\t\n",
            "2.00\t2.00\t\n",
            "3.00\t3.00\t\n",
            "\n",
            "C:\n",
            "0.00\t0.00\t\n",
            "6.00\t6.00\t\n",
            "12.00\t12.00\t\n",
            "18.00\t18.00\t\n",
            "24.00\t24.00\t\n",
            "30.00\t30.00\t\n",
            "36.00\t36.00\t\n",
            "42.00\t42.00\t\n",
            "\n",
            "\n"
          ]
        }
      ]
    }
  ]
}